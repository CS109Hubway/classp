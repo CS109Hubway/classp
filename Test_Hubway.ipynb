{
 "metadata": {
  "name": "",
  "signature": "sha256:1b5c5ae7e929ff697afdddfc101903a875bc5a31ea26392b9eb72766d2ea3b16"
 },
 "nbformat": 3,
 "nbformat_minor": 0,
 "worksheets": [
  {
   "cells": [
    {
     "cell_type": "markdown",
     "metadata": {},
     "source": [
      "### CS109 Hubway Project Test Notebook"
     ]
    },
    {
     "cell_type": "code",
     "collapsed": false,
     "input": [
      "h = 1\n",
      "u = 2\n",
      "b = 3\n",
      "\n",
      "print h+u+b"
     ],
     "language": "python",
     "metadata": {},
     "outputs": [
      {
       "output_type": "stream",
       "stream": "stdout",
       "text": [
        "6\n"
       ]
      }
     ],
     "prompt_number": 1
    },
    {
     "cell_type": "code",
     "collapsed": false,
     "input": [],
     "language": "python",
     "metadata": {},
     "outputs": []
    }
   ],
   "metadata": {}
  }
 ]
}