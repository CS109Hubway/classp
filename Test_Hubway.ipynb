{
 "metadata": {
  "name": "",
  "signature": "sha256:90d82292dd516baf86fa8e661c8769c6f8b90d8b376894e48c0c106f3f74b163"
 },
 "nbformat": 3,
 "nbformat_minor": 0,
 "worksheets": [
  {
   "cells": [
    {
     "cell_type": "markdown",
     "metadata": {},
     "source": [
      "### CS109 Hubway Project Test Notebook"
     ]
    },
    {
     "cell_type": "code",
     "collapsed": false,
     "input": [
      "import pandas as pd\n",
      "import numpy as np\n",
      "import datetime as dt # module for manipulating dates and time\n",
      "from matplotlib import pyplot as plt\n",
      "%matplotlib inline"
     ],
     "language": "python",
     "metadata": {},
     "outputs": [],
     "prompt_number": 1
    },
    {
     "cell_type": "heading",
     "level": 1,
     "metadata": {},
     "source": [
      "Read in Hubway Data"
     ]
    },
    {
     "cell_type": "code",
     "collapsed": false,
     "input": [
      "#station status\n",
      "urlstatus_fall2011='https://raw.githubusercontent.com/CS109Hubway/classp/master/data/stationstatus8_11to2_12_5min.csv'\n",
      "urlstatus_spring2012='https://raw.githubusercontent.com/CS109Hubway/classp/master/data/stationstatus3_12to6_12_5min.csv'\n",
      "urlstatus_summer2012='https://raw.githubusercontent.com/CS109Hubway/classp/master/data/stationstatus7_12to10_12_5min.csv'\n",
      "\n",
      "status_fall2011 = pd.read_csv(urlstatus_fall2011, header=None)\n",
      "status_spring2012 = pd.read_csv(urlstatus_spring2012, header=None)\n",
      "status_summer2012 = pd.read_csv(urlstatus_summer2012, header=None)"
     ],
     "language": "python",
     "metadata": {},
     "outputs": [],
     "prompt_number": 2
    },
    {
     "cell_type": "code",
     "collapsed": false,
     "input": [
      "#combine station status dataframes\n",
      "status = pd.concat([status_fall2011,status_spring2012,status_summer2012])\n",
      "status.columns = ['uniqueid', 'stationid', 'timestamp', 'nbBikes','nbEmptyDocks', 'capacity']\n",
      "print status.head()"
     ],
     "language": "python",
     "metadata": {},
     "outputs": [
      {
       "output_type": "stream",
       "stream": "stdout",
       "text": [
        "   uniqueid  stationid                timestamp  nbBikes  nbEmptyDocks  \\\n",
        "0       147         57  2011-08-22 16:45:58.076        7             4   \n",
        "1       124         33  2011-08-22 16:45:58.076        7            12   \n",
        "2       146         56  2011-08-22 16:45:58.076        4            11   \n",
        "3       128         37  2011-08-22 16:45:58.076        8             7   \n",
        "4       127         36  2011-08-22 16:45:58.076        2            14   \n",
        "\n",
        "   capacity  \n",
        "0        11  \n",
        "1        19  \n",
        "2        15  \n",
        "3        15  \n",
        "4        16  \n"
       ]
      }
     ],
     "prompt_number": 8
    },
    {
     "cell_type": "code",
     "collapsed": false,
     "input": [
      "#station data\n",
      "urlstations='https://raw.githubusercontent.com/CS109Hubway/classp/master/data/hubway_stations.csv'\n",
      "stations = pd.read_csv(urlstations)\n",
      "print stations.head()"
     ],
     "language": "python",
     "metadata": {},
     "outputs": [
      {
       "output_type": "stream",
       "stream": "stdout",
       "text": [
        "   id terminal                             station municipal        lat  \\\n",
        "0   3   B32006              Colleges of the Fenway    Boston  42.340021   \n",
        "1   4   C32000         Tremont St. at Berkeley St.    Boston  42.345392   \n",
        "2   5   B32012  Northeastern U / North Parking Lot    Boston  42.341814   \n",
        "3   6   D32000            Cambridge St. at Joy St.    Boston  42.361285   \n",
        "4   7   A32000                            Fan Pier    Boston  42.353412   \n",
        "\n",
        "         lng    status  \n",
        "0 -71.100812  Existing  \n",
        "1 -71.069616  Existing  \n",
        "2 -71.090179  Existing  \n",
        "3 -71.065140  Existing  \n",
        "4 -71.044624  Existing  \n"
       ]
      }
     ],
     "prompt_number": 9
    },
    {
     "cell_type": "code",
     "collapsed": false,
     "input": [
      "#trip data\n",
      "urltrips='https://raw.githubusercontent.com/CS109Hubway/classp/master/data/tripsthrough2012.csv'\n",
      "trips = pd.read_csv(urltrips)\n",
      "print trips.head()"
     ],
     "language": "python",
     "metadata": {},
     "outputs": [
      {
       "output_type": "stream",
       "stream": "stdout",
       "text": [
        "   seq_id  hubway_id  status  duration           start_date  strt_statn  \\\n",
        "0       1          8  Closed         9  2011-07-28 10:12:00          23   \n",
        "1       2          9  Closed       220  2011-07-28 10:21:00          23   \n",
        "2       3         10  Closed        56  2011-07-28 10:33:00          23   \n",
        "3       4         11  Closed        64  2011-07-28 10:35:00          23   \n",
        "4       5         12  Closed        12  2011-07-28 10:37:00          23   \n",
        "\n",
        "              end_date  end_statn bike_nr  subsc_type zip_code  birth_date  \\\n",
        "0  2011-07-28 10:12:00         23  B00468  Registered   '97217        1976   \n",
        "1  2011-07-28 10:25:00         23  B00554  Registered   '02215        1966   \n",
        "2  2011-07-28 10:34:00         23  B00456  Registered   '02108        1943   \n",
        "3  2011-07-28 10:36:00         23  B00554  Registered   '02116        1981   \n",
        "4  2011-07-28 10:37:00         23  B00554  Registered   '97214        1983   \n",
        "\n",
        "   gender  \n",
        "0    Male  \n",
        "1    Male  \n",
        "2    Male  \n",
        "3  Female  \n",
        "4  Female  \n"
       ]
      }
     ],
     "prompt_number": 10
    },
    {
     "cell_type": "heading",
     "level": 1,
     "metadata": {},
     "source": [
      "Exploratory Analysis"
     ]
    },
    {
     "cell_type": "code",
     "collapsed": false,
     "input": [],
     "language": "python",
     "metadata": {},
     "outputs": []
    }
   ],
   "metadata": {}
  }
 ]
}