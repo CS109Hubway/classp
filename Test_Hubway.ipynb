{
 "metadata": {
  "name": "",
  "signature": "sha256:b5c168b959ab98fdb5c3c1cca62b969bcc8d8df7533cb7777b8bae3015d8fafd"
 },
 "nbformat": 3,
 "nbformat_minor": 0,
 "worksheets": [
  {
   "cells": [
    {
     "cell_type": "markdown",
     "metadata": {},
     "source": [
      "### CS109 Hubway Project Test Notebook"
     ]
    },
    {
     "cell_type": "code",
     "collapsed": false,
     "input": [
      "import pandas as pd\n",
      "import numpy as np\n",
      "import datetime as dt # module for manipulating dates and time\n",
      "from matplotlib import pyplot as plt\n",
      "import json\n",
      "import requests\n",
      "%matplotlib inline"
     ],
     "language": "python",
     "metadata": {},
     "outputs": [],
     "prompt_number": 2
    },
    {
     "cell_type": "heading",
     "level": 1,
     "metadata": {},
     "source": [
      "Read in Hubway Data"
     ]
    },
    {
     "cell_type": "code",
     "collapsed": false,
     "input": [
      "#station status\n",
      "urlstatus_fall2011='https://raw.githubusercontent.com/CS109Hubway/classp/master/data/stationstatus8_11to2_12_5min.csv'\n",
      "urlstatus_spring2012='https://raw.githubusercontent.com/CS109Hubway/classp/master/data/stationstatus3_12to6_12_5min.csv'\n",
      "urlstatus_summer2012='https://raw.githubusercontent.com/CS109Hubway/classp/master/data/stationstatus7_12to10_12_5min.csv'\n",
      "\n",
      "status_fall2011 = pd.read_csv(urlstatus_fall2011, header=None)\n",
      "status_spring2012 = pd.read_csv(urlstatus_spring2012, header=None)\n",
      "status_summer2012 = pd.read_csv(urlstatus_summer2012, header=None)"
     ],
     "language": "python",
     "metadata": {},
     "outputs": [],
     "prompt_number": 2
    },
    {
     "cell_type": "code",
     "collapsed": false,
     "input": [
      "#combine station status dataframes\n",
      "status = pd.concat([status_fall2011,status_spring2012,status_summer2012])\n",
      "status.columns = ['uniqueid', 'stationid', 'timestamp', 'nbBikes','nbEmptyDocks', 'capacity']\n",
      "print status.head()"
     ],
     "language": "python",
     "metadata": {},
     "outputs": [
      {
       "output_type": "stream",
       "stream": "stdout",
       "text": [
        "   uniqueid  stationid                timestamp  nbBikes  nbEmptyDocks  \\\n",
        "0       147         57  2011-08-22 16:45:58.076        7             4   \n",
        "1       124         33  2011-08-22 16:45:58.076        7            12   \n",
        "2       146         56  2011-08-22 16:45:58.076        4            11   \n",
        "3       128         37  2011-08-22 16:45:58.076        8             7   \n",
        "4       127         36  2011-08-22 16:45:58.076        2            14   \n",
        "\n",
        "   capacity  \n",
        "0        11  \n",
        "1        19  \n",
        "2        15  \n",
        "3        15  \n",
        "4        16  \n"
       ]
      }
     ],
     "prompt_number": 8
    },
    {
     "cell_type": "code",
     "collapsed": false,
     "input": [
      "#station data\n",
      "urlstations='https://raw.githubusercontent.com/CS109Hubway/classp/master/data/hubway_stations.csv'\n",
      "stations = pd.read_csv(urlstations)\n",
      "print stations.head()"
     ],
     "language": "python",
     "metadata": {},
     "outputs": [
      {
       "output_type": "stream",
       "stream": "stdout",
       "text": [
        "   id terminal                             station municipal        lat  \\\n",
        "0   3   B32006              Colleges of the Fenway    Boston  42.340021   \n",
        "1   4   C32000         Tremont St. at Berkeley St.    Boston  42.345392   \n",
        "2   5   B32012  Northeastern U / North Parking Lot    Boston  42.341814   \n",
        "3   6   D32000            Cambridge St. at Joy St.    Boston  42.361285   \n",
        "4   7   A32000                            Fan Pier    Boston  42.353412   \n",
        "\n",
        "         lng    status  \n",
        "0 -71.100812  Existing  \n",
        "1 -71.069616  Existing  \n",
        "2 -71.090179  Existing  \n",
        "3 -71.065140  Existing  \n",
        "4 -71.044624  Existing  \n"
       ]
      }
     ],
     "prompt_number": 9
    },
    {
     "cell_type": "code",
     "collapsed": false,
     "input": [
      "#trip data\n",
      "urltrips='https://raw.githubusercontent.com/CS109Hubway/classp/master/data/tripsthrough2012.csv'\n",
      "trips = pd.read_csv(urltrips)\n",
      "print trips.head()"
     ],
     "language": "python",
     "metadata": {},
     "outputs": [
      {
       "output_type": "stream",
       "stream": "stdout",
       "text": [
        "   seq_id  hubway_id  status  duration           start_date  strt_statn  \\\n",
        "0       1          8  Closed         9  2011-07-28 10:12:00          23   \n",
        "1       2          9  Closed       220  2011-07-28 10:21:00          23   \n",
        "2       3         10  Closed        56  2011-07-28 10:33:00          23   \n",
        "3       4         11  Closed        64  2011-07-28 10:35:00          23   \n",
        "4       5         12  Closed        12  2011-07-28 10:37:00          23   \n",
        "\n",
        "              end_date  end_statn bike_nr  subsc_type zip_code  birth_date  \\\n",
        "0  2011-07-28 10:12:00         23  B00468  Registered   '97217        1976   \n",
        "1  2011-07-28 10:25:00         23  B00554  Registered   '02215        1966   \n",
        "2  2011-07-28 10:34:00         23  B00456  Registered   '02108        1943   \n",
        "3  2011-07-28 10:36:00         23  B00554  Registered   '02116        1981   \n",
        "4  2011-07-28 10:37:00         23  B00554  Registered   '97214        1983   \n",
        "\n",
        "   gender  \n",
        "0    Male  \n",
        "1    Male  \n",
        "2    Male  \n",
        "3  Female  \n",
        "4  Female  \n"
       ]
      }
     ],
     "prompt_number": 10
    },
    {
     "cell_type": "code",
     "collapsed": false,
     "input": [
      "per='period=hour'\n",
      "zipcode='&postal_code_eq=02139'\n",
      "country='&country_eq=US'\n",
      "limit='&limit=24'\n",
      "time='&timestamp_between=2013-09-12T00:00+05:00,2013-09-12T24:00+05:00'\n",
      "fields='&fields=timestamp,postal_code,temp,precip'\n",
      "weatherurl='https://api.weathersource.com/v1/72ca38efeac35b0dfea6/history_by_postal_code.json?'+per+zipcode+country+limit+time+fields\n",
      "\n",
      "weatherdata =  requests.get(weatherurl).json()\n",
      "keys = weatherdata[0].keys()\n",
      "weather = pd.DataFrame(columns=keys)\n",
      "\n",
      "for i in range(len(keys)):\n",
      "    weather[keys[i]]= [x[keys[i]] for x in weatherdata]\n",
      "    \n",
      "print weather"
     ],
     "language": "python",
     "metadata": {},
     "outputs": [
      {
       "output_type": "stream",
       "stream": "stdout",
       "text": [
        "                    timestamp  precip postal_code  temp\n",
        "0   2013-09-11T15:00:00-04:00       0       02139  96.6\n",
        "1   2013-09-11T16:00:00-04:00       0       02139  97.5\n",
        "2   2013-09-11T17:00:00-04:00       0       02139  95.7\n",
        "3   2013-09-11T18:00:00-04:00       0       02139  92.9\n",
        "4   2013-09-11T19:00:00-04:00       0       02139  88.4\n",
        "5   2013-09-11T20:00:00-04:00       0       02139  85.1\n",
        "6   2013-09-11T21:00:00-04:00       0       02139  82.9\n",
        "7   2013-09-11T22:00:00-04:00       0       02139  82.0\n",
        "8   2013-09-11T23:00:00-04:00       0       02139  81.1\n",
        "9   2013-09-12T00:00:00-04:00       0       02139  80.4\n",
        "10  2013-09-12T01:00:00-04:00       0       02139  78.7\n",
        "11  2013-09-12T02:00:00-04:00       0       02139  76.5\n",
        "12  2013-09-12T03:00:00-04:00       0       02139  75.2\n",
        "13  2013-09-12T04:00:00-04:00       0       02139  73.5\n",
        "14  2013-09-12T05:00:00-04:00       0       02139  72.3\n",
        "15  2013-09-12T06:00:00-04:00       0       02139  70.9\n",
        "16  2013-09-12T07:00:00-04:00       0       02139  70.7\n",
        "17  2013-09-12T08:00:00-04:00       0       02139  73.0\n",
        "18  2013-09-12T09:00:00-04:00       0       02139  75.6\n",
        "19  2013-09-12T10:00:00-04:00       0       02139  79.5\n",
        "20  2013-09-12T11:00:00-04:00       0       02139  82.4\n",
        "21  2013-09-12T12:00:00-04:00       0       02139  85.6\n",
        "22  2013-09-12T13:00:00-04:00       0       02139  87.6\n",
        "23  2013-09-12T14:00:00-04:00       0       02139  88.2\n"
       ]
      }
     ],
     "prompt_number": 28
    },
    {
     "cell_type": "code",
     "collapsed": false,
     "input": [
      "#generated daily weather data using custom filter from 8/20/2011 to 9/20/2012 and saved output as a csv\n",
      "#http://www.wunderground.com/history/airport/KBOS/2014/11/17/CustomHistory.html\n",
      "urldailyweather='https://raw.githubusercontent.com/CS109Hubway/classp/master/data/dailyweather.csv'\n",
      "dailyweather = pd.read_csv(urldailyweather)\n",
      "print dailyweather.head()"
     ],
     "language": "python",
     "metadata": {},
     "outputs": [
      {
       "output_type": "stream",
       "stream": "stdout",
       "text": [
        "         EDT  Max TemperatureF  Mean TemperatureF  Min TemperatureF  \\\n",
        "0  2011-8-20                84                 78                72   \n",
        "1  2011-8-21                86                 78                69   \n",
        "2  2011-8-22                80                 74                68   \n",
        "3  2011-8-23                79                 71                63   \n",
        "4  2011-8-24                81                 73                64   \n",
        "\n",
        "   Max Dew PointF  MeanDew PointF  Min DewpointF  Max Humidity  \\\n",
        "0              70              68             64            93   \n",
        "1              71              68             65            90   \n",
        "2              72              60             48            87   \n",
        "3              55              50             47            67   \n",
        "4              60              58             54            78   \n",
        "\n",
        "    Mean Humidity   Min Humidity      ...         Max VisibilityMiles  \\\n",
        "0              76             58      ...                          10   \n",
        "1              76             61      ...                          10   \n",
        "2              61             35      ...                          10   \n",
        "3              50             33      ...                          10   \n",
        "4              62             45      ...                          10   \n",
        "\n",
        "    Mean VisibilityMiles   Min VisibilityMiles   Max Wind SpeedMPH  \\\n",
        "0                     10                    10                  17   \n",
        "1                      9                     7                  24   \n",
        "2                      8                     1                  24   \n",
        "3                     10                    10                  16   \n",
        "4                     10                    10                  24   \n",
        "\n",
        "    Mean Wind SpeedMPH   Max Gust SpeedMPH  PrecipitationIn   CloudCover  \\\n",
        "0                    9                  21             0.00            5   \n",
        "1                   12                  31                T            6   \n",
        "2                   13                  32             0.59            5   \n",
        "3                    9                  22             0.00            2   \n",
        "4                   13                  29             0.00            3   \n",
        "\n",
        "         Events  WindDirDegrees  \n",
        "0           NaN             198  \n",
        "1  Thunderstorm             203  \n",
        "2          Rain             266  \n",
        "3           NaN             277  \n",
        "4           NaN             206  \n",
        "\n",
        "[5 rows x 23 columns]\n"
       ]
      }
     ],
     "prompt_number": 5
    },
    {
     "cell_type": "heading",
     "level": 1,
     "metadata": {},
     "source": [
      "Exploratory Analysis"
     ]
    },
    {
     "cell_type": "code",
     "collapsed": false,
     "input": [],
     "language": "python",
     "metadata": {},
     "outputs": []
    }
   ],
   "metadata": {}
  }
 ]
}