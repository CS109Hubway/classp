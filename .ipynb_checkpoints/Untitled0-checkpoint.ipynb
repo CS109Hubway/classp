{
 "metadata": {
  "name": "",
  "signature": "sha256:986a208bf7fd6a4d8c7597f83d5bb93b49fbd96a013e31a8002805842fd6c153"
 },
 "nbformat": 3,
 "nbformat_minor": 0,
 "worksheets": []
}