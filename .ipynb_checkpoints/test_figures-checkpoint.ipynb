{
 "metadata": {
  "name": "",
  "signature": "sha256:677ceb76cb38ecb696ca3ecc2884f2e823f916468a1b56149187ef8ad518ebd0"
 },
 "nbformat": 3,
 "nbformat_minor": 0,
 "worksheets": [
  {
   "cells": [
    {
     "cell_type": "code",
     "collapsed": false,
     "input": [
      "#special IPython command to prepare the notebook for matplotlib\n",
      "%matplotlib inline\n",
      "\n",
      "#import libraries\n",
      "import numpy as np\n",
      "import pandas as pd # pandas\n",
      "import matplotlib.pyplot as plt # module for plotting \n",
      "from statsmodels.nonparametric.api import lowess\n",
      "from mpl_toolkits.basemap import Basemap\n",
      "from matplotlib.patches import Polygon\n",
      "import statsmodels.formula.api as smf\n",
      "from sklearn.ensemble import RandomForestClassifier\n",
      "from sklearn.cross_validation import cross_val_score\n",
      "import sklearn.decomposition\n",
      "import sklearn.cluster\n",
      "from matplotlib import gridspec\n",
      "import seaborn as sns\n",
      "import datetime\n",
      "\n",
      "#import python functions that read in each data source\n",
      "import read_prep \n",
      "\n",
      "#set default plot characterstics and colors\n",
      "from matplotlib import rcParams\n",
      "\n",
      "#dark_colors = [(0.10588235294117647, 0.6196078431372549, 0.4666666666666667),\n",
      "dark_colors = [\"#99D699\", \"#B2B2B2\",\n",
      "                (0.8509803921568627, 0.37254901960784315, 0.00784313725490196),\n",
      "                (0.4588235294117647, 0.4392156862745098, 0.7019607843137254),\n",
      "                (0.9058823529411765, 0.1607843137254902, 0.5411764705882353),\n",
      "                (0.4, 0.6509803921568628, 0.11764705882352941),\n",
      "                (0.9019607843137255, 0.6705882352941176, 0.00784313725490196),\n",
      "                (0.6509803921568628, 0.4627450980392157, 0.11372549019607843),\n",
      "                (0.4, 0.4, 0.4)]\n",
      "\n",
      "rcParams['figure.figsize'] = (12, 9)\n",
      "rcParams['figure.dpi'] = 150\n",
      "rcParams['axes.color_cycle'] = dark_colors\n",
      "rcParams['lines.linewidth'] = 2\n",
      "rcParams['axes.facecolor'] = \"white\"\n",
      "rcParams['axes.titlesize'] = 20      \n",
      "rcParams['axes.labelsize'] = 17.5\n",
      "rcParams['xtick.labelsize'] = 15 \n",
      "rcParams['ytick.labelsize'] = 15\n",
      "rcParams['legend.fontsize'] = 17.5\n",
      "rcParams['patch.edgecolor'] = 'none'\n",
      "rcParams['grid.color']=\"white\"   \n",
      "rcParams['grid.linestyle']=\"-\" \n",
      "rcParams['grid.linewidth'] = 1\n",
      "rcParams['grid.alpha']=1\n",
      "rcParams['text.color'] = \"444444\"\n",
      "rcParams['axes.labelcolor'] = \"444444\"\n",
      "rcParams['ytick.color'] = \"444444\"\n",
      "rcParams['xtick.color'] = \"444444\"\n",
      "\n"
     ],
     "language": "python",
     "metadata": {},
     "outputs": [],
     "prompt_number": 1
    },
    {
     "cell_type": "code",
     "collapsed": false,
     "input": [
      "print 'cell1'"
     ],
     "language": "python",
     "metadata": {},
     "outputs": [
      {
       "output_type": "stream",
       "stream": "stdout",
       "text": [
        "cell1\n"
       ]
      }
     ],
     "prompt_number": 1
    },
    {
     "cell_type": "code",
     "collapsed": false,
     "input": [
      "print 'cell2'"
     ],
     "language": "python",
     "metadata": {},
     "outputs": [
      {
       "output_type": "stream",
       "stream": "stdout",
       "text": [
        "cell2\n"
       ]
      }
     ],
     "prompt_number": 2
    },
    {
     "cell_type": "code",
     "collapsed": false,
     "input": [],
     "language": "python",
     "metadata": {},
     "outputs": []
    }
   ],
   "metadata": {}
  }
 ]
}