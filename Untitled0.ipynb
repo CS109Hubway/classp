{
 "metadata": {
  "name": "",
  "signature": "sha256:a0b6c8ad04580b1f5db717692e2798539db520e79eb657d38adc420537e72fdd"
 },
 "nbformat": 3,
 "nbformat_minor": 0,
 "worksheets": [
  {
   "cells": [
    {
     "cell_type": "code",
     "collapsed": false,
     "input": [
      "import matplotlib.pyplot as plt\n",
      "import matplotlib.patches as patches\n",
      "import matplotlib.colors as colors\n",
      "import math\n",
      "import numpy as np\n",
      "\n",
      "\n",
      "# fig = plt.figure()\n",
      "# ax = fig.add_subplot(111)\n",
      "\n",
      "# ratio = 1.0 / 3.0\n",
      "# count = math.ceil(math.sqrt(len(colors.cnames)))\n",
      "# x_count = count * ratio\n",
      "# y_count = count / ratio\n",
      "# x = 0\n",
      "# y = 0\n",
      "# w = 1 / x_count\n",
      "# h = 1 / y_count\n",
      "\n",
      "# for c in colors.cnames:\n",
      "#     pos = (x / x_count, y / y_count)\n",
      "#     ax.add_patch(patches.Rectangle(pos, w, h, color=c))\n",
      "#     ax.annotate(c, xy=pos)\n",
      "#     if y >= y_count-1:\n",
      "#         x += 1\n",
      "#         y = 0\n",
      "#     else:\n",
      "#         y += 1\n",
      "\n",
      "# plt.show()"
     ],
     "language": "python",
     "metadata": {},
     "outputs": []
    },
    {
     "cell_type": "code",
     "collapsed": false,
     "input": [
      "plt.scatter(1+30/2+10, 5, marker=ur'$\\u2640$')"
     ],
     "language": "python",
     "metadata": {},
     "outputs": [
      {
       "metadata": {},
       "output_type": "pyout",
       "prompt_number": 4,
       "text": [
        "<matplotlib.collections.PathCollection at 0xaa3f5c0>"
       ]
      }
     ],
     "prompt_number": 4
    },
    {
     "cell_type": "code",
     "collapsed": false,
     "input": [],
     "language": "python",
     "metadata": {},
     "outputs": []
    }
   ],
   "metadata": {}
  }
 ]
}